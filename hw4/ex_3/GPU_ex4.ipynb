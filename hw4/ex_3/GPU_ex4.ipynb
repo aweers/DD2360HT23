{
  "nbformat": 4,
  "nbformat_minor": 0,
  "metadata": {
    "colab": {
      "provenance": [],
      "gpuType": "T4"
    },
    "kernelspec": {
      "name": "python3",
      "display_name": "Python 3"
    },
    "language_info": {
      "name": "python"
    },
    "accelerator": "GPU"
  },
  "cells": [
    {
      "cell_type": "code",
      "execution_count": 53,
      "metadata": {
        "colab": {
          "base_uri": "https://localhost:8080/"
        },
        "id": "orLaNPzWc-nT",
        "outputId": "5ab146aa-cce8-425c-82ca-3da1dbe93673"
      },
      "outputs": [
        {
          "output_type": "stream",
          "name": "stdout",
          "text": [
            "nvcc: NVIDIA (R) Cuda compiler driver\n",
            "Copyright (c) 2005-2023 NVIDIA Corporation\n",
            "Built on Tue_Aug_15_22:02:13_PDT_2023\n",
            "Cuda compilation tools, release 12.2, V12.2.140\n",
            "Build cuda_12.2.r12.2/compiler.33191640_0\n"
          ]
        }
      ],
      "source": [
        "!nvcc --version"
      ]
    },
    {
      "cell_type": "code",
      "source": [
        "!nvidia-smi"
      ],
      "metadata": {
        "colab": {
          "base_uri": "https://localhost:8080/"
        },
        "id": "ysNMOvrQc_Oe",
        "outputId": "b14a418d-eb99-47da-9bc3-542cd742c82b"
      },
      "execution_count": 54,
      "outputs": [
        {
          "output_type": "stream",
          "name": "stdout",
          "text": [
            "Sat Jan  6 08:06:40 2024       \n",
            "+---------------------------------------------------------------------------------------+\n",
            "| NVIDIA-SMI 535.104.05             Driver Version: 535.104.05   CUDA Version: 12.2     |\n",
            "|-----------------------------------------+----------------------+----------------------+\n",
            "| GPU  Name                 Persistence-M | Bus-Id        Disp.A | Volatile Uncorr. ECC |\n",
            "| Fan  Temp   Perf          Pwr:Usage/Cap |         Memory-Usage | GPU-Util  Compute M. |\n",
            "|                                         |                      |               MIG M. |\n",
            "|=========================================+======================+======================|\n",
            "|   0  Tesla T4                       Off | 00000000:00:04.0 Off |                    0 |\n",
            "| N/A   59C    P8              10W /  70W |      0MiB / 15360MiB |      0%      Default |\n",
            "|                                         |                      |                  N/A |\n",
            "+-----------------------------------------+----------------------+----------------------+\n",
            "                                                                                         \n",
            "+---------------------------------------------------------------------------------------+\n",
            "| Processes:                                                                            |\n",
            "|  GPU   GI   CI        PID   Type   Process name                            GPU Memory |\n",
            "|        ID   ID                                                             Usage      |\n",
            "|=======================================================================================|\n",
            "|  No running processes found                                                           |\n",
            "+---------------------------------------------------------------------------------------+\n"
          ]
        }
      ]
    },
    {
      "cell_type": "code",
      "source": [],
      "metadata": {
        "id": "UgQQL1Zec_L_"
      },
      "execution_count": 54,
      "outputs": []
    },
    {
      "cell_type": "code",
      "source": [
        "%%writefile lab4_ex3.cu\n",
        "#include <cuda_runtime_api.h>\n",
        "#include <math.h>\n",
        "#include <stdlib.h>\n",
        "#include <sys/time.h>\n",
        "#include <cusparse_v2.h>\n",
        "#include <cublas_v2.h>\n",
        "#include <thrust/device_ptr.h>\n",
        "#include <thrust/sequence.h>\n",
        "\n",
        "#define gpuCheck(stmt)                                               \\\n",
        "  do {                                                               \\\n",
        "      cudaError_t err = stmt;                                        \\\n",
        "      if (err != cudaSuccess) {                                      \\\n",
        "          printf(\"ERROR. Failed to run stmt %s\\n\", #stmt);           \\\n",
        "          break;                                                     \\\n",
        "      }                                                              \\\n",
        "  } while (0)\n",
        "\n",
        "// Macro to check the cuBLAS status\n",
        "#define cublasCheck(stmt)                                            \\\n",
        "  do {                                                               \\\n",
        "      cublasStatus_t err = stmt;                                     \\\n",
        "      if (err != CUBLAS_STATUS_SUCCESS) {                            \\\n",
        "          printf(\"ERROR. Failed to run cuBLAS stmt %s\\n\", #stmt);    \\\n",
        "          break;                                                     \\\n",
        "      }                                                              \\\n",
        "  } while (0)\n",
        "\n",
        "// Macro to check the cuSPARSE status\n",
        "#define cusparseCheck(stmt)                                          \\\n",
        "  do {                                                               \\\n",
        "      cusparseStatus_t err = stmt;                                   \\\n",
        "      if (err != CUSPARSE_STATUS_SUCCESS) {                          \\\n",
        "          printf(\"ERROR. Failed to run cuSPARSE stmt %s\\n\", #stmt);  \\\n",
        "          break;                                                     \\\n",
        "      }                                                              \\\n",
        "  } while (0)\n",
        "\n",
        "\n",
        "struct timeval t_start, t_end;\n",
        "void cputimer_start(){\n",
        "  gettimeofday(&t_start, 0);\n",
        "}\n",
        "void cputimer_stop(const char* info){\n",
        "  gettimeofday(&t_end, 0);\n",
        "  double time = (1000000.0*(t_end.tv_sec-t_start.tv_sec) + t_end.tv_usec-t_start.tv_usec);\n",
        "  printf(\"Timing - %s. \\t\\tElasped %.0f microseconds \\n\", info, time);\n",
        "}\n",
        "\n",
        "// Initialize the sparse matrix needed for the heat time step\n",
        "void matrixInit(double* A, int* ArowPtr, int* AcolIndx, int dimX,\n",
        "    double alpha) {\n",
        "  // Stencil from the finete difference discretization of the equation\n",
        "  double stencil[] = { 1, -2, 1 };\n",
        "  // Variable holding the position to insert a new element\n",
        "  size_t ptr = 0;\n",
        "  // Insert a row of zeros at the beginning of the matrix\n",
        "  ArowPtr[1] = ptr;\n",
        "  // Fill the non zero entries of the matrix\n",
        "  for (int i = 1; i < (dimX - 1); ++i) {\n",
        "    // Insert the elements: A[i][i-1], A[i][i], A[i][i+1]\n",
        "    for (int k = 0; k < 3; ++k) {\n",
        "      // Set the value for A[i][i+k-1]\n",
        "      A[ptr] = stencil[k];\n",
        "      // Set the column index for A[i][i+k-1]\n",
        "      AcolIndx[ptr++] = i + k - 1;\n",
        "    }\n",
        "    // Set the number of newly added elements\n",
        "    ArowPtr[i + 1] = ptr;\n",
        "  }\n",
        "  // Insert a row of zeros at the end of the matrix\n",
        "  ArowPtr[dimX] = ptr;\n",
        "}\n",
        "\n",
        "int main(int argc, char **argv) {\n",
        "  int device = 0;            // Device to be used\n",
        "  int dimX;                  // Dimension of the metal rod\n",
        "  int nsteps;                // Number of time steps to perform\n",
        "  double alpha = 0.4;        // Diffusion coefficient\n",
        "  double* temp;              // Array to store the final time step\n",
        "  double* A;                 // Sparse matrix A values in the CSR format\n",
        "  int* ARowPtr;              // Sparse matrix A row pointers in the CSR format\n",
        "  int* AColIndx;             // Sparse matrix A col values in the CSR format\n",
        "  int nzv;                   // Number of non zero values in the sparse matrix\n",
        "  double* tmp;               // Temporal array of dimX for computations\n",
        "  size_t bufferSize = 0;     // Buffer size needed by some routines\n",
        "  void* buffer = nullptr;    // Buffer used by some routines in the libraries\n",
        "  int concurrentAccessQ;     // Check if concurrent access flag is set\n",
        "  double zero = 0;           // Zero constant\n",
        "  double one = 1;            // One constant\n",
        "  double norm;               // Variable for norm values\n",
        "  double error;              // Variable for storing the relative error\n",
        "  double tempLeft = 200.;    // Left heat source applied to the rod\n",
        "  double tempRight = 300.;   // Right heat source applied to the rod\n",
        "  cublasHandle_t cublasHandle;      // cuBLAS handle\n",
        "  cusparseHandle_t cusparseHandle;  // cuSPARSE handle\n",
        "  cusparseSpMatDescr_t Adescriptor;   // Mat descriptor needed by cuSPARSE\n",
        "  int prefetch;\n",
        "  struct timeval total_time_start, total_time_end;\n",
        "  gettimeofday(&total_time_start, 0);\n",
        "\n",
        "  // Read the arguments from the command line\n",
        "  dimX = atoi(argv[1]);\n",
        "  nsteps = atoi(argv[2]);\n",
        "  prefetch = atoi(argv[3]);\n",
        "\n",
        "  // Print input arguments\n",
        "  printf(\"The X dimension of the grid is %d \\n\", dimX);\n",
        "  printf(\"The number of time steps to perform is %d \\n\", nsteps);\n",
        "\n",
        "  // Get if the cudaDevAttrConcurrentManagedAccess flag is set\n",
        "  gpuCheck(cudaDeviceGetAttribute(&concurrentAccessQ, cudaDevAttrConcurrentManagedAccess, device));\n",
        "\n",
        "  // Calculate the number of non zero values in the sparse matrix. This number\n",
        "  // is known from the structure of the sparse matrix\n",
        "  nzv = 3 * dimX - 6;\n",
        "\n",
        "  //@@ Insert the code to allocate the temp, tmp and the sparse matrix\n",
        "  //@@ arrays using Unified Memory\n",
        "  cputimer_start();\n",
        "  gpuCheck(cudaMallocManaged(&temp, dimX * sizeof(double)));\n",
        "  gpuCheck(cudaMallocManaged(&tmp, dimX * sizeof(double)));\n",
        "  gpuCheck(cudaMallocManaged(&A, nzv * sizeof(double)));\n",
        "  gpuCheck(cudaMallocManaged(&ARowPtr, (dimX + 1) * sizeof(int)));\n",
        "  gpuCheck(cudaMallocManaged(&AColIndx, nzv * sizeof(int)));\n",
        "\n",
        "  cputimer_stop(\"Allocating device memory\");\n",
        "\n",
        "  // Check if concurrentAccessQ is non zero in order to prefetch memory\n",
        "  if (concurrentAccessQ && prefetch) {\n",
        "    cputimer_start();\n",
        "    //@@ Insert code to prefetch in Unified Memory asynchronously to CPU\n",
        "    gpuCheck(cudaMemPrefetchAsync(A, nzv * sizeof(double), cudaCpuDeviceId));\n",
        "    gpuCheck(cudaMemPrefetchAsync(ARowPtr, (dimX + 1) * sizeof(int), cudaCpuDeviceId));\n",
        "    gpuCheck(cudaMemPrefetchAsync(AColIndx, nzv * sizeof(int), cudaCpuDeviceId));\n",
        "\n",
        "    cputimer_stop(\"Prefetching GPU memory to the host\");\n",
        "  }\n",
        "\n",
        "  // Initialize the sparse matrix\n",
        "  cputimer_start();\n",
        "  matrixInit(A, ARowPtr, AColIndx, dimX, alpha);\n",
        "  cputimer_stop(\"Initializing the sparse matrix on the host\");\n",
        "\n",
        "  //Initiliaze the boundary conditions for the heat equation\n",
        "  cputimer_start();\n",
        "  memset(temp, 0, sizeof(double) * dimX);\n",
        "  temp[0] = tempLeft;\n",
        "  temp[dimX - 1] = tempRight;\n",
        "  cputimer_stop(\"Initializing memory on the host\");\n",
        "\n",
        "  if (concurrentAccessQ && prefetch) {\n",
        "    cputimer_start();\n",
        "    //@@ Insert code to prefetch in Unified Memory asynchronously to the GPU\n",
        "    gpuCheck(cudaMemPrefetchAsync(A, nzv * sizeof(double), device));\n",
        "    gpuCheck(cudaMemPrefetchAsync(ARowPtr, (dimX + 1) * sizeof(int), device));\n",
        "    gpuCheck(cudaMemPrefetchAsync(AColIndx, nzv * sizeof(int), device));\n",
        "\n",
        "    cputimer_stop(\"Prefetching GPU memory to the device\");\n",
        "  }\n",
        "\n",
        "  //@@ Insert code to create the cuBLAS handle\n",
        "  cublasCheck(cublasCreate(&cublasHandle));\n",
        "\n",
        "  //@@ Insert code to create the cuSPARSE handle\n",
        "  cusparseCheck(cusparseCreate(&cusparseHandle));\n",
        "\n",
        "  //@@ Insert code to set the cuBLAS pointer mode to CUSPARSE_POINTER_MODE_HOST\n",
        "  cublasCheck(cublasSetPointerMode(cublasHandle, CUBLAS_POINTER_MODE_HOST));\n",
        "  cusparseCheck(cusparseSetPointerMode(cusparseHandle, CUSPARSE_POINTER_MODE_HOST));\n",
        "\n",
        "  //@@ Insert code to call cusparse api to create the mat descriptor used by cuSPARSE\n",
        "  cusparseCheck(cusparseCreateCsr(&Adescriptor, dimX, dimX, nzv, ARowPtr, AColIndx, A, CUSPARSE_INDEX_32I, CUSPARSE_INDEX_32I, CUSPARSE_INDEX_BASE_ZERO, CUDA_R_64F));\n",
        "  cusparseDnVecDescr_t tempDescriptor;\n",
        "  cusparseDnVecDescr_t tmpDescriptor;\n",
        "  cusparseCheck(cusparseCreateDnVec(&tempDescriptor, dimX, temp, CUDA_R_64F));\n",
        "  cusparseCheck(cusparseCreateDnVec(&tmpDescriptor, dimX, tmp, CUDA_R_64F));\n",
        "\n",
        "  //@@ Insert code to call cusparse api to get the buffer size needed by the sparse matrix per\n",
        "  //@@ vector (SMPV) CSR routine of cuSPARSE\n",
        "  cusparseCheck(cusparseCreateDnVec(&tempDescriptor, dimX, temp, CUDA_R_64F));\n",
        "  cusparseCheck(cusparseCreateDnVec(&tmpDescriptor, dimX, tmp, CUDA_R_64F));\n",
        "  cusparseCheck(cusparseSpMV_bufferSize(cusparseHandle, CUSPARSE_OPERATION_NON_TRANSPOSE, &one, Adescriptor, tempDescriptor, &zero, tmpDescriptor, CUDA_R_64F, CUSPARSE_SPMV_ALG_DEFAULT, &bufferSize));\n",
        "\n",
        "\n",
        "  //@@ Insert code to allocate the buffer needed by cuSPARSE\n",
        "  gpuCheck(cudaMalloc(&buffer, bufferSize));\n",
        "\n",
        "  cputimer_start();\n",
        "  // Perform the time step iterations\n",
        "  for (int it = 0; it < nsteps; ++it) {\n",
        "    //@@ Insert code to call cusparse api to compute the SMPV (sparse matrix multiplication) for\n",
        "    //@@ the CSR matrix using cuSPARSE. This calculation corresponds to:\n",
        "    //@@ tmp = 1 * A * temp + 0 * tmp\n",
        "    cusparseCheck(cusparseSpMV(cusparseHandle, CUSPARSE_OPERATION_NON_TRANSPOSE, &one, Adescriptor, tempDescriptor, &zero, tmpDescriptor, CUDA_R_64F, CUSPARSE_SPMV_ALG_DEFAULT, buffer));\n",
        "\n",
        "    //@@ Insert code to call cublas api to compute the axpy routine using cuBLAS.\n",
        "    //@@ This calculation corresponds to: temp = alpha * tmp + temp\n",
        "    cublasCheck(cublasDaxpy_v2(cublasHandle, dimX, &alpha, tmp, 1, temp, 1));\n",
        "\n",
        "    //@@ Insert code to call cublas api to compute the norm of the vector using cuBLAS\n",
        "    //@@ This calculation corresponds to: ||temp||\n",
        "    cublasCheck(cublasDnrm2_v2(cublasHandle, dimX, temp, 1, &norm));\n",
        "\n",
        "    // If the norm of A*temp is smaller than 10^-4 exit the loop\n",
        "    if (norm < 1e-4)\n",
        "      break;\n",
        "  }\n",
        "  cputimer_stop(\"Performing the time step iterations\");\n",
        "\n",
        "  // Calculate the exact solution using thrust\n",
        "  thrust::device_ptr<double> thrustPtr(tmp);\n",
        "  thrust::sequence(thrustPtr, thrustPtr + dimX, tempLeft,\n",
        "      (tempRight - tempLeft) / (dimX - 1));\n",
        "\n",
        "  // Calculate the relative approximation error:\n",
        "  one = -1;\n",
        "  //@@ Insert the code to call cublas api to compute the difference between the exact solution\n",
        "  //@@ and the approximation\n",
        "  //@@ This calculation corresponds to: tmp = -temp + tmp\n",
        "  cublasCheck(cublasDaxpy_v2(cublasHandle, dimX, &one, temp, 1, tmp, 1));\n",
        "\n",
        "  //@@ Insert the code to call cublas api to compute the norm of the absolute error\n",
        "  //@@ This calculation corresponds to: || tmp ||\n",
        "  cublasCheck(cublasDnrm2_v2(cublasHandle, dimX, tmp, 1, &norm));\n",
        "\n",
        "  error = norm;\n",
        "  //@@ Insert the code to call cublas api to compute the norm of temp\n",
        "  //@@ This calculation corresponds to: || temp ||\n",
        "  cublasCheck(cublasDnrm2_v2(cublasHandle, dimX, temp, 1, &norm));\n",
        "\n",
        "  // Calculate the relative error\n",
        "  error = error / norm;\n",
        "  printf(\"The relative error of the approximation is %f\\n\", error);\n",
        "\n",
        "  //@@ Insert the code to destroy the mat descriptor\n",
        "  cusparseCheck(cusparseDestroySpMat(Adescriptor));\n",
        "  cusparseCheck(cusparseDestroyDnVec(tempDescriptor));\n",
        "  cusparseCheck(cusparseDestroyDnVec(tmpDescriptor));\n",
        "\n",
        "  //@@ Insert the code to destroy the cuSPARSE handle\n",
        "  cusparseCheck(cusparseDestroy(cusparseHandle));\n",
        "\n",
        "  //@@ Insert the code to destroy the cuBLAS handle\n",
        "  cublasCheck(cublasDestroy(cublasHandle));\n",
        "\n",
        "  //@@ Insert the code for deallocating memory\n",
        "  gpuCheck(cudaFree(temp));\n",
        "  gpuCheck(cudaFree(tmp));\n",
        "  gpuCheck(cudaFree(A));\n",
        "  gpuCheck(cudaFree(buffer));\n",
        "  gpuCheck(cudaFree(ARowPtr));\n",
        "  gpuCheck(cudaFree(AColIndx));\n",
        "\n",
        "  gettimeofday(&total_time_end, 0);\n",
        "  double total_time = (1000000.0*(total_time_end.tv_sec-total_time_start.tv_sec) + total_time_end.tv_usec-total_time_start.tv_usec);\n",
        "  printf(\"Total time: %.0f microseconds \\n\", total_time);\n",
        "\n",
        "  return 0;\n",
        "}"
      ],
      "metadata": {
        "colab": {
          "base_uri": "https://localhost:8080/"
        },
        "id": "6oV14IOZc_JI",
        "outputId": "df37481b-8eb5-43fd-9630-6258293cc9d6"
      },
      "execution_count": 55,
      "outputs": [
        {
          "output_type": "stream",
          "name": "stdout",
          "text": [
            "Overwriting lab4_ex3.cu\n"
          ]
        }
      ]
    },
    {
      "cell_type": "code",
      "source": [
        "!nvcc lab4_ex3.cu -lcublas -lcusparse"
      ],
      "metadata": {
        "id": "BZDjDHlcdUJ2"
      },
      "execution_count": 56,
      "outputs": []
    },
    {
      "cell_type": "code",
      "source": [
        "!./a.out 128 100 1"
      ],
      "metadata": {
        "colab": {
          "base_uri": "https://localhost:8080/"
        },
        "id": "DwvOQR5hdBtW",
        "outputId": "dceb0352-9813-4b1d-b4f1-cb79f146c407"
      },
      "execution_count": 57,
      "outputs": [
        {
          "output_type": "stream",
          "name": "stdout",
          "text": [
            "The X dimension of the grid is 128 \n",
            "The number of time steps to perform is 100 \n",
            "Timing - Allocating device memory. \t\tElasped 83024 microseconds \n",
            "Timing - Prefetching GPU memory to the host. \t\tElasped 461 microseconds \n",
            "Timing - Initializing the sparse matrix on the host. \t\tElasped 4 microseconds \n",
            "Timing - Initializing memory on the host. \t\tElasped 0 microseconds \n",
            "Timing - Prefetching GPU memory to the device. \t\tElasped 358 microseconds \n",
            "Timing - Performing the time step iterations. \t\tElasped 21894 microseconds \n",
            "The relative error of the approximation is 3.318021\n",
            "Total time: 144660 microseconds \n"
          ]
        }
      ]
    },
    {
      "cell_type": "code",
      "source": [
        "!./a.out 256 100 1"
      ],
      "metadata": {
        "colab": {
          "base_uri": "https://localhost:8080/"
        },
        "id": "N5yGV5vvdBqQ",
        "outputId": "8301e8eb-0063-469a-9629-151f1f899128"
      },
      "execution_count": 58,
      "outputs": [
        {
          "output_type": "stream",
          "name": "stdout",
          "text": [
            "The X dimension of the grid is 256 \n",
            "The number of time steps to perform is 100 \n",
            "Timing - Allocating device memory. \t\tElasped 73137 microseconds \n",
            "Timing - Prefetching GPU memory to the host. \t\tElasped 448 microseconds \n",
            "Timing - Initializing the sparse matrix on the host. \t\tElasped 3 microseconds \n",
            "Timing - Initializing memory on the host. \t\tElasped 12 microseconds \n",
            "Timing - Prefetching GPU memory to the device. \t\tElasped 364 microseconds \n",
            "Timing - Performing the time step iterations. \t\tElasped 25646 microseconds \n",
            "The relative error of the approximation is 4.924835\n",
            "Total time: 138362 microseconds \n"
          ]
        }
      ]
    },
    {
      "cell_type": "code",
      "source": [
        "!./a.out 512 100 1"
      ],
      "metadata": {
        "colab": {
          "base_uri": "https://localhost:8080/"
        },
        "id": "w-UWdVwEdBm6",
        "outputId": "0cc777c9-3d68-4144-dbb2-a92233f562f7"
      },
      "execution_count": 59,
      "outputs": [
        {
          "output_type": "stream",
          "name": "stdout",
          "text": [
            "The X dimension of the grid is 512 \n",
            "The number of time steps to perform is 100 \n",
            "Timing - Allocating device memory. \t\tElasped 65147 microseconds \n",
            "Timing - Prefetching GPU memory to the host. \t\tElasped 453 microseconds \n",
            "Timing - Initializing the sparse matrix on the host. \t\tElasped 12 microseconds \n",
            "Timing - Initializing memory on the host. \t\tElasped 16 microseconds \n",
            "Timing - Prefetching GPU memory to the device. \t\tElasped 431 microseconds \n",
            "Timing - Performing the time step iterations. \t\tElasped 25984 microseconds \n",
            "The relative error of the approximation is 7.123992\n",
            "Total time: 130214 microseconds \n"
          ]
        }
      ]
    },
    {
      "cell_type": "code",
      "source": [
        "!./a.out 64 100 1"
      ],
      "metadata": {
        "colab": {
          "base_uri": "https://localhost:8080/"
        },
        "id": "XkhW5V8Jdh5R",
        "outputId": "04ff37ba-57f1-465f-b9bb-e0445e55ddee"
      },
      "execution_count": 60,
      "outputs": [
        {
          "output_type": "stream",
          "name": "stdout",
          "text": [
            "The X dimension of the grid is 64 \n",
            "The number of time steps to perform is 100 \n",
            "Timing - Allocating device memory. \t\tElasped 61675 microseconds \n",
            "Timing - Prefetching GPU memory to the host. \t\tElasped 426 microseconds \n",
            "Timing - Initializing the sparse matrix on the host. \t\tElasped 1 microseconds \n",
            "Timing - Initializing memory on the host. \t\tElasped 0 microseconds \n",
            "Timing - Prefetching GPU memory to the device. \t\tElasped 355 microseconds \n",
            "Timing - Performing the time step iterations. \t\tElasped 21301 microseconds \n",
            "The relative error of the approximation is 2.096374\n",
            "Total time: 122359 microseconds \n"
          ]
        }
      ]
    },
    {
      "cell_type": "code",
      "source": [
        "!./a.out 32 100 1"
      ],
      "metadata": {
        "colab": {
          "base_uri": "https://localhost:8080/"
        },
        "id": "GvM5ys-Kdh2E",
        "outputId": "0747c068-1d29-4ec4-e89d-86f0b6f36181"
      },
      "execution_count": 61,
      "outputs": [
        {
          "output_type": "stream",
          "name": "stdout",
          "text": [
            "The X dimension of the grid is 32 \n",
            "The number of time steps to perform is 100 \n",
            "Timing - Allocating device memory. \t\tElasped 63661 microseconds \n",
            "Timing - Prefetching GPU memory to the host. \t\tElasped 428 microseconds \n",
            "Timing - Initializing the sparse matrix on the host. \t\tElasped 1 microseconds \n",
            "Timing - Initializing memory on the host. \t\tElasped 1 microseconds \n",
            "Timing - Prefetching GPU memory to the device. \t\tElasped 355 microseconds \n",
            "Timing - Performing the time step iterations. \t\tElasped 22127 microseconds \n",
            "The relative error of the approximation is 1.049938\n",
            "Total time: 126065 microseconds \n"
          ]
        }
      ]
    },
    {
      "cell_type": "code",
      "source": [
        "!./a.out 16 100 1"
      ],
      "metadata": {
        "colab": {
          "base_uri": "https://localhost:8080/"
        },
        "id": "DQiNVIK_dhzZ",
        "outputId": "bae143d6-4135-4e1e-e762-5f66b3a40cdf"
      },
      "execution_count": 62,
      "outputs": [
        {
          "output_type": "stream",
          "name": "stdout",
          "text": [
            "The X dimension of the grid is 16 \n",
            "The number of time steps to perform is 100 \n",
            "Timing - Allocating device memory. \t\tElasped 62930 microseconds \n",
            "Timing - Prefetching GPU memory to the host. \t\tElasped 440 microseconds \n",
            "Timing - Initializing the sparse matrix on the host. \t\tElasped 1 microseconds \n",
            "Timing - Initializing memory on the host. \t\tElasped 1 microseconds \n",
            "Timing - Prefetching GPU memory to the device. \t\tElasped 384 microseconds \n",
            "Timing - Performing the time step iterations. \t\tElasped 20536 microseconds \n",
            "The relative error of the approximation is 0.168723\n",
            "Total time: 127398 microseconds \n"
          ]
        }
      ]
    },
    {
      "cell_type": "code",
      "source": [],
      "metadata": {
        "id": "Rd0-rMm4dhv3"
      },
      "execution_count": 62,
      "outputs": []
    },
    {
      "cell_type": "code",
      "source": [
        "!./a.out 128 100 1"
      ],
      "metadata": {
        "colab": {
          "base_uri": "https://localhost:8080/"
        },
        "id": "5xJWTje8dySD",
        "outputId": "012e1dd2-883a-4e17-f27f-a642b928fd84"
      },
      "execution_count": 63,
      "outputs": [
        {
          "output_type": "stream",
          "name": "stdout",
          "text": [
            "The X dimension of the grid is 128 \n",
            "The number of time steps to perform is 100 \n",
            "Timing - Allocating device memory. \t\tElasped 62005 microseconds \n",
            "Timing - Prefetching GPU memory to the host. \t\tElasped 449 microseconds \n",
            "Timing - Initializing the sparse matrix on the host. \t\tElasped 4 microseconds \n",
            "Timing - Initializing memory on the host. \t\tElasped 0 microseconds \n",
            "Timing - Prefetching GPU memory to the device. \t\tElasped 409 microseconds \n",
            "Timing - Performing the time step iterations. \t\tElasped 21522 microseconds \n",
            "The relative error of the approximation is 3.318021\n",
            "Total time: 122665 microseconds \n"
          ]
        }
      ]
    },
    {
      "cell_type": "code",
      "source": [
        "!./a.out 128 200 1"
      ],
      "metadata": {
        "colab": {
          "base_uri": "https://localhost:8080/"
        },
        "id": "etNOOiFDdyPB",
        "outputId": "4678565f-6e19-4aee-a605-f037cedb7afa"
      },
      "execution_count": 64,
      "outputs": [
        {
          "output_type": "stream",
          "name": "stdout",
          "text": [
            "The X dimension of the grid is 128 \n",
            "The number of time steps to perform is 200 \n",
            "Timing - Allocating device memory. \t\tElasped 64872 microseconds \n",
            "Timing - Prefetching GPU memory to the host. \t\tElasped 435 microseconds \n",
            "Timing - Initializing the sparse matrix on the host. \t\tElasped 2 microseconds \n",
            "Timing - Initializing memory on the host. \t\tElasped 0 microseconds \n",
            "Timing - Prefetching GPU memory to the device. \t\tElasped 391 microseconds \n",
            "Timing - Performing the time step iterations. \t\tElasped 36213 microseconds \n",
            "The relative error of the approximation is 2.723174\n",
            "Total time: 140230 microseconds \n"
          ]
        }
      ]
    },
    {
      "cell_type": "code",
      "source": [
        "!./a.out 128 500 1"
      ],
      "metadata": {
        "colab": {
          "base_uri": "https://localhost:8080/"
        },
        "id": "WLdeqMm_dyLq",
        "outputId": "a673bd83-0e77-47b3-8961-4835970b116a"
      },
      "execution_count": 65,
      "outputs": [
        {
          "output_type": "stream",
          "name": "stdout",
          "text": [
            "The X dimension of the grid is 128 \n",
            "The number of time steps to perform is 500 \n",
            "Timing - Allocating device memory. \t\tElasped 68528 microseconds \n",
            "Timing - Prefetching GPU memory to the host. \t\tElasped 445 microseconds \n",
            "Timing - Initializing the sparse matrix on the host. \t\tElasped 4 microseconds \n",
            "Timing - Initializing memory on the host. \t\tElasped 0 microseconds \n",
            "Timing - Prefetching GPU memory to the device. \t\tElasped 374 microseconds \n",
            "Timing - Performing the time step iterations. \t\tElasped 77897 microseconds \n",
            "The relative error of the approximation is 2.002595\n",
            "Total time: 184664 microseconds \n"
          ]
        }
      ]
    },
    {
      "cell_type": "code",
      "source": [
        "!./a.out 128 1000 1"
      ],
      "metadata": {
        "colab": {
          "base_uri": "https://localhost:8080/"
        },
        "id": "6xoXv2yqdyIv",
        "outputId": "4129db67-3b72-42d5-f073-db08dad165e9"
      },
      "execution_count": 66,
      "outputs": [
        {
          "output_type": "stream",
          "name": "stdout",
          "text": [
            "The X dimension of the grid is 128 \n",
            "The number of time steps to perform is 1000 \n",
            "Timing - Allocating device memory. \t\tElasped 69895 microseconds \n",
            "Timing - Prefetching GPU memory to the host. \t\tElasped 459 microseconds \n",
            "Timing - Initializing the sparse matrix on the host. \t\tElasped 3 microseconds \n",
            "Timing - Initializing memory on the host. \t\tElasped 0 microseconds \n",
            "Timing - Prefetching GPU memory to the device. \t\tElasped 379 microseconds \n",
            "Timing - Performing the time step iterations. \t\tElasped 151056 microseconds \n",
            "The relative error of the approximation is 1.488118\n",
            "Total time: 261012 microseconds \n"
          ]
        }
      ]
    },
    {
      "cell_type": "code",
      "source": [
        "!./a.out 128 2000 1"
      ],
      "metadata": {
        "colab": {
          "base_uri": "https://localhost:8080/"
        },
        "id": "xbmthMQydyFp",
        "outputId": "7ae98fa1-2898-492e-deea-59824e722490"
      },
      "execution_count": 67,
      "outputs": [
        {
          "output_type": "stream",
          "name": "stdout",
          "text": [
            "The X dimension of the grid is 128 \n",
            "The number of time steps to perform is 2000 \n",
            "Timing - Allocating device memory. \t\tElasped 66405 microseconds \n",
            "Timing - Prefetching GPU memory to the host. \t\tElasped 434 microseconds \n",
            "Timing - Initializing the sparse matrix on the host. \t\tElasped 2 microseconds \n",
            "Timing - Initializing memory on the host. \t\tElasped 0 microseconds \n",
            "Timing - Prefetching GPU memory to the device. \t\tElasped 414 microseconds \n",
            "Timing - Performing the time step iterations. \t\tElasped 212464 microseconds \n",
            "The relative error of the approximation is 0.963428\n",
            "Total time: 318226 microseconds \n"
          ]
        }
      ]
    },
    {
      "cell_type": "code",
      "source": [
        "!./a.out 128 5000 1"
      ],
      "metadata": {
        "colab": {
          "base_uri": "https://localhost:8080/"
        },
        "id": "ICHvmCbwdyC_",
        "outputId": "d9b90bda-4d43-4eba-b9c0-13105ae5d14f"
      },
      "execution_count": 68,
      "outputs": [
        {
          "output_type": "stream",
          "name": "stdout",
          "text": [
            "The X dimension of the grid is 128 \n",
            "The number of time steps to perform is 5000 \n",
            "Timing - Allocating device memory. \t\tElasped 67547 microseconds \n",
            "Timing - Prefetching GPU memory to the host. \t\tElasped 434 microseconds \n",
            "Timing - Initializing the sparse matrix on the host. \t\tElasped 4 microseconds \n",
            "Timing - Initializing memory on the host. \t\tElasped 0 microseconds \n",
            "Timing - Prefetching GPU memory to the device. \t\tElasped 233 microseconds \n",
            "Timing - Performing the time step iterations. \t\tElasped 306223 microseconds \n",
            "The relative error of the approximation is 0.337648\n",
            "Total time: 413433 microseconds \n"
          ]
        }
      ]
    },
    {
      "cell_type": "code",
      "source": [
        "!./a.out 128 10000 1"
      ],
      "metadata": {
        "colab": {
          "base_uri": "https://localhost:8080/"
        },
        "id": "TTOFMnSvd0Ly",
        "outputId": "ccdee040-703a-4c1a-e2ba-8cdb41b0bac7"
      },
      "execution_count": 69,
      "outputs": [
        {
          "output_type": "stream",
          "name": "stdout",
          "text": [
            "The X dimension of the grid is 128 \n",
            "The number of time steps to perform is 10000 \n",
            "Timing - Allocating device memory. \t\tElasped 70342 microseconds \n",
            "Timing - Prefetching GPU memory to the host. \t\tElasped 442 microseconds \n",
            "Timing - Initializing the sparse matrix on the host. \t\tElasped 4 microseconds \n",
            "Timing - Initializing memory on the host. \t\tElasped 1 microseconds \n",
            "Timing - Prefetching GPU memory to the device. \t\tElasped 345 microseconds \n",
            "Timing - Performing the time step iterations. \t\tElasped 607705 microseconds \n",
            "The relative error of the approximation is 0.082647\n",
            "Total time: 716549 microseconds \n"
          ]
        }
      ]
    },
    {
      "cell_type": "code",
      "source": [],
      "metadata": {
        "id": "t_lAQ4Xfd0IT"
      },
      "execution_count": 69,
      "outputs": []
    },
    {
      "cell_type": "code",
      "source": [
        "!./a.out 128 10000 0"
      ],
      "metadata": {
        "colab": {
          "base_uri": "https://localhost:8080/"
        },
        "id": "vF_Qu98od0FH",
        "outputId": "6544379e-22ef-426e-eb1b-18378343b057"
      },
      "execution_count": 70,
      "outputs": [
        {
          "output_type": "stream",
          "name": "stdout",
          "text": [
            "The X dimension of the grid is 128 \n",
            "The number of time steps to perform is 10000 \n",
            "Timing - Allocating device memory. \t\tElasped 62035 microseconds \n",
            "Timing - Initializing the sparse matrix on the host. \t\tElasped 410 microseconds \n",
            "Timing - Initializing memory on the host. \t\tElasped 1 microseconds \n",
            "Timing - Performing the time step iterations. \t\tElasped 639149 microseconds \n",
            "The relative error of the approximation is 0.082647\n",
            "Total time: 739856 microseconds \n"
          ]
        }
      ]
    },
    {
      "cell_type": "code",
      "source": [
        "!./a.out 128 1000 0"
      ],
      "metadata": {
        "colab": {
          "base_uri": "https://localhost:8080/"
        },
        "id": "fIRvE7oOeub7",
        "outputId": "195ccb6c-66e1-4bd4-9171-87efeb87bd9c"
      },
      "execution_count": 71,
      "outputs": [
        {
          "output_type": "stream",
          "name": "stdout",
          "text": [
            "The X dimension of the grid is 128 \n",
            "The number of time steps to perform is 1000 \n",
            "Timing - Allocating device memory. \t\tElasped 81778 microseconds \n",
            "Timing - Initializing the sparse matrix on the host. \t\tElasped 463 microseconds \n",
            "Timing - Initializing memory on the host. \t\tElasped 0 microseconds \n",
            "Timing - Performing the time step iterations. \t\tElasped 81245 microseconds \n",
            "The relative error of the approximation is 1.488118\n",
            "Total time: 214911 microseconds \n"
          ]
        }
      ]
    },
    {
      "cell_type": "code",
      "source": [
        "!./a.out 128 100 0"
      ],
      "metadata": {
        "colab": {
          "base_uri": "https://localhost:8080/"
        },
        "id": "W9HT6nEIeuYk",
        "outputId": "570bd402-d4fa-46f3-b8ff-6acd0161906f"
      },
      "execution_count": 72,
      "outputs": [
        {
          "output_type": "stream",
          "name": "stdout",
          "text": [
            "The X dimension of the grid is 128 \n",
            "The number of time steps to perform is 100 \n",
            "Timing - Allocating device memory. \t\tElasped 86276 microseconds \n",
            "Timing - Initializing the sparse matrix on the host. \t\tElasped 472 microseconds \n",
            "Timing - Initializing memory on the host. \t\tElasped 0 microseconds \n",
            "Timing - Performing the time step iterations. \t\tElasped 18652 microseconds \n",
            "The relative error of the approximation is 3.318021\n",
            "Total time: 157242 microseconds \n"
          ]
        }
      ]
    },
    {
      "cell_type": "code",
      "source": [
        "!./a.out 512 100 0"
      ],
      "metadata": {
        "colab": {
          "base_uri": "https://localhost:8080/"
        },
        "id": "ReBM1IyleuVi",
        "outputId": "44763e53-8e0f-4db6-c945-a70ce394c85c"
      },
      "execution_count": 73,
      "outputs": [
        {
          "output_type": "stream",
          "name": "stdout",
          "text": [
            "The X dimension of the grid is 512 \n",
            "The number of time steps to perform is 100 \n",
            "Timing - Allocating device memory. \t\tElasped 86664 microseconds \n",
            "Timing - Initializing the sparse matrix on the host. \t\tElasped 453 microseconds \n",
            "Timing - Initializing memory on the host. \t\tElasped 0 microseconds \n",
            "Timing - Performing the time step iterations. \t\tElasped 21398 microseconds \n",
            "The relative error of the approximation is 7.123992\n",
            "Total time: 160417 microseconds \n"
          ]
        }
      ]
    },
    {
      "cell_type": "code",
      "source": [
        "!./a.out 32 100 0"
      ],
      "metadata": {
        "colab": {
          "base_uri": "https://localhost:8080/"
        },
        "id": "fY8lbtxweuSe",
        "outputId": "822d404d-1de2-423f-dc5f-afd67cffa885"
      },
      "execution_count": 74,
      "outputs": [
        {
          "output_type": "stream",
          "name": "stdout",
          "text": [
            "The X dimension of the grid is 32 \n",
            "The number of time steps to perform is 100 \n",
            "Timing - Allocating device memory. \t\tElasped 93601 microseconds \n",
            "Timing - Initializing the sparse matrix on the host. \t\tElasped 434 microseconds \n",
            "Timing - Initializing memory on the host. \t\tElasped 1 microseconds \n",
            "Timing - Performing the time step iterations. \t\tElasped 19215 microseconds \n",
            "The relative error of the approximation is 1.049938\n",
            "Total time: 166002 microseconds \n"
          ]
        }
      ]
    },
    {
      "cell_type": "code",
      "source": [],
      "metadata": {
        "id": "r20Fyu2deuEm"
      },
      "execution_count": 74,
      "outputs": []
    },
    {
      "cell_type": "code",
      "source": [
        "!./a.out 512 10000 0"
      ],
      "metadata": {
        "colab": {
          "base_uri": "https://localhost:8080/"
        },
        "id": "NS4BDhaJeuBY",
        "outputId": "7648df1b-dd1f-40ac-cb1c-180ff6eac46a"
      },
      "execution_count": 75,
      "outputs": [
        {
          "output_type": "stream",
          "name": "stdout",
          "text": [
            "The X dimension of the grid is 512 \n",
            "The number of time steps to perform is 10000 \n",
            "Timing - Allocating device memory. \t\tElasped 81550 microseconds \n",
            "Timing - Initializing the sparse matrix on the host. \t\tElasped 452 microseconds \n",
            "Timing - Initializing memory on the host. \t\tElasped 1 microseconds \n",
            "Timing - Performing the time step iterations. \t\tElasped 993338 microseconds \n",
            "The relative error of the approximation is 1.878041\n",
            "Total time: 1128752 microseconds \n"
          ]
        }
      ]
    },
    {
      "cell_type": "code",
      "source": [
        "!./a.out 512 10000 1"
      ],
      "metadata": {
        "colab": {
          "base_uri": "https://localhost:8080/"
        },
        "id": "YSqQTEhPet-F",
        "outputId": "35e9cf66-3ede-4167-9f6a-2f8a8ecb196d"
      },
      "execution_count": 76,
      "outputs": [
        {
          "output_type": "stream",
          "name": "stdout",
          "text": [
            "The X dimension of the grid is 512 \n",
            "The number of time steps to perform is 10000 \n",
            "Timing - Allocating device memory. \t\tElasped 67536 microseconds \n",
            "Timing - Prefetching GPU memory to the host. \t\tElasped 437 microseconds \n",
            "Timing - Initializing the sparse matrix on the host. \t\tElasped 12 microseconds \n",
            "Timing - Initializing memory on the host. \t\tElasped 16 microseconds \n",
            "Timing - Prefetching GPU memory to the device. \t\tElasped 280 microseconds \n",
            "Timing - Performing the time step iterations. \t\tElasped 818097 microseconds \n",
            "The relative error of the approximation is 1.878041\n",
            "Total time: 924366 microseconds \n"
          ]
        }
      ]
    },
    {
      "cell_type": "code",
      "source": [
        "!./a.out 512 50000 0"
      ],
      "metadata": {
        "colab": {
          "base_uri": "https://localhost:8080/"
        },
        "id": "JLI8nBWoet7J",
        "outputId": "47934a98-8064-4a55-f367-ed4252fa7a19"
      },
      "execution_count": 77,
      "outputs": [
        {
          "output_type": "stream",
          "name": "stdout",
          "text": [
            "The X dimension of the grid is 512 \n",
            "The number of time steps to perform is 50000 \n",
            "Timing - Allocating device memory. \t\tElasped 68558 microseconds \n",
            "Timing - Initializing the sparse matrix on the host. \t\tElasped 421 microseconds \n",
            "Timing - Initializing memory on the host. \t\tElasped 1 microseconds \n",
            "Timing - Performing the time step iterations. \t\tElasped 3779774 microseconds \n",
            "The relative error of the approximation is 0.643318\n",
            "Total time: 3886221 microseconds \n"
          ]
        }
      ]
    },
    {
      "cell_type": "code",
      "source": [
        "!./a.out 512 50000 1"
      ],
      "metadata": {
        "colab": {
          "base_uri": "https://localhost:8080/"
        },
        "id": "SUnvrp-AdBjY",
        "outputId": "ca49874c-2f83-41f9-9957-c08957535c23"
      },
      "execution_count": 78,
      "outputs": [
        {
          "output_type": "stream",
          "name": "stdout",
          "text": [
            "The X dimension of the grid is 512 \n",
            "The number of time steps to perform is 50000 \n",
            "Timing - Allocating device memory. \t\tElasped 63749 microseconds \n",
            "Timing - Prefetching GPU memory to the host. \t\tElasped 461 microseconds \n",
            "Timing - Initializing the sparse matrix on the host. \t\tElasped 11 microseconds \n",
            "Timing - Initializing memory on the host. \t\tElasped 17 microseconds \n",
            "Timing - Prefetching GPU memory to the device. \t\tElasped 224 microseconds \n",
            "Timing - Performing the time step iterations. \t\tElasped 3791572 microseconds \n",
            "The relative error of the approximation is 0.643318\n",
            "Total time: 3892902 microseconds \n"
          ]
        }
      ]
    }
  ]
}